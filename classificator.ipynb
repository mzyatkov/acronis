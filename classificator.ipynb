{
 "metadata": {
  "language_info": {
   "codemirror_mode": {
    "name": "ipython",
    "version": 3
   },
   "file_extension": ".py",
   "mimetype": "text/x-python",
   "name": "python",
   "nbconvert_exporter": "python",
   "pygments_lexer": "ipython3",
   "version": "3.8.5"
  },
  "orig_nbformat": 2,
  "kernelspec": {
   "name": "python385jvsc74a57bd0374c64f666e4a92d73d9fe4353c63504f10102eb3c5a6e85086f78d6fc6d099f",
   "display_name": "Python 3.8.5 64-bit ('base': conda)"
  }
 },
 "nbformat": 4,
 "nbformat_minor": 2,
 "cells": [
  {
   "cell_type": "code",
   "execution_count": 1,
   "metadata": {},
   "outputs": [],
   "source": [
    "import pandas as pd\n",
    "import numpy as np\n",
    "from sklearn.tree import DecisionTreeClassifier\n"
   ]
  },
  {
   "cell_type": "code",
   "execution_count": 2,
   "metadata": {},
   "outputs": [],
   "source": [
    "data = pd.read_csv(\"behavior.csv\")"
   ]
  },
  {
   "cell_type": "code",
   "execution_count": 3,
   "metadata": {},
   "outputs": [
    {
     "output_type": "execute_result",
     "data": {
      "text/plain": [
       "                                              Unnamed: 0  \\\n",
       "0      00005122106941E2A0B5A651249D71ADD11C561167F3F9...   \n",
       "1      0000CF95A98B33F00F4CDCBD13017EAB7B9589BE79617D...   \n",
       "2      00015A2AEE06230C7E12B8D1E79F345F90008F0DD3175B...   \n",
       "3      0001D0A0243A15D78F10DB87FD721E4F06F3B9892257FC...   \n",
       "4      0001D6A56EBCF3C0DEF053DA01454BF23021DE7DF1FC48...   \n",
       "...                                                  ...   \n",
       "49995  4BC0BBB718DF49F910610A21684615B4D8467351B92247...   \n",
       "49996  4BC0F4DB50C10C6B2622AECF1AF42AF066CE4ED30F3FB2...   \n",
       "49997  4BC1009A6EAC73C7C30F205C165416820396EAEAF6E48E...   \n",
       "49998  4BC1021BFE0F9D286A779A10F6BA38A4A0035FFF694CDB...   \n",
       "49999  4BC2E8DF3964E8C0D3F427B213D654A1314AE0DC750FA1...   \n",
       "\n",
       "       hkey_local_machine\\\\software\\microsoft\\windows\\currentversion\\uninstall\\mobileoptionpack  \\\n",
       "0                                                      0                                          \n",
       "1                                                      0                                          \n",
       "2                                                      0                                          \n",
       "3                                                      0                                          \n",
       "4                                                      0                                          \n",
       "...                                                  ...                                          \n",
       "49995                                                  0                                          \n",
       "49996                                                  0                                          \n",
       "49997                                                  0                                          \n",
       "49998                                                  0                                          \n",
       "49999                                                  0                                          \n",
       "\n",
       "       hkey_classes_root\\\\clsid\\{148bd52a-a2ab-11ce-b11f-00aa00530503}  \\\n",
       "0                                                      0                 \n",
       "1                                                      0                 \n",
       "2                                                      0                 \n",
       "3                                                      0                 \n",
       "4                                                      0                 \n",
       "...                                                  ...                 \n",
       "49995                                                  0                 \n",
       "49996                                                  0                 \n",
       "49997                                                  0                 \n",
       "49998                                                  0                 \n",
       "49999                                                  0                 \n",
       "\n",
       "       hkey_current_user\\\\software\\microsoft\\windows\\currentversion\\urlmon settings  \\\n",
       "0                                                      0                              \n",
       "1                                                      0                              \n",
       "2                                                      0                              \n",
       "3                                                      0                              \n",
       "4                                                      0                              \n",
       "...                                                  ...                              \n",
       "49995                                                  0                              \n",
       "49996                                                  0                              \n",
       "49997                                                  0                              \n",
       "49998                                                  0                              \n",
       "49999                                                  0                              \n",
       "\n",
       "       hkey_local_machine\\\\system\\currentcontrolset\\services\\tcpip\\parameters\\interfaces\\ms tcp loopback interface  \\\n",
       "0                                                      0                                                             \n",
       "1                                                      0                                                             \n",
       "2                                                      0                                                             \n",
       "3                                                      0                                                             \n",
       "4                                                      0                                                             \n",
       "...                                                  ...                                                             \n",
       "49995                                                  0                                                             \n",
       "49996                                                  0                                                             \n",
       "49997                                                  0                                                             \n",
       "49998                                                  0                                                             \n",
       "49999                                                  0                                                             \n",
       "\n",
       "       hkey_local_machine\\\\software\\microsoft\\net framework setup\\ndp\\v3.5  \\\n",
       "0                                                      0                     \n",
       "1                                                      0                     \n",
       "2                                                      0                     \n",
       "3                                                      0                     \n",
       "4                                                      0                     \n",
       "...                                                  ...                     \n",
       "49995                                                  0                     \n",
       "49996                                                  0                     \n",
       "49997                                                  0                     \n",
       "49998                                                  0                     \n",
       "49999                                                  0                     \n",
       "\n",
       "       hkey_local_machine\\\\software\\microsoft\\windows nt\\currentversion\\winlogon  \\\n",
       "0                                                      2                           \n",
       "1                                                      0                           \n",
       "2                                                      0                           \n",
       "3                                                      4                           \n",
       "4                                                      0                           \n",
       "...                                                  ...                           \n",
       "49995                                                  2                           \n",
       "49996                                                  0                           \n",
       "49997                                                  0                           \n",
       "49998                                                  0                           \n",
       "49999                                                  0                           \n",
       "\n",
       "       hkey_local_machine\\\\software\\microsoft\\windows\\currentversion\\internet settings\\user agent  \\\n",
       "0                                                      0                                            \n",
       "1                                                      0                                            \n",
       "2                                                      0                                            \n",
       "3                                                      0                                            \n",
       "4                                                      0                                            \n",
       "...                                                  ...                                            \n",
       "49995                                                  0                                            \n",
       "49996                                                  0                                            \n",
       "49997                                                  0                                            \n",
       "49998                                                  0                                            \n",
       "49999                                                  0                                            \n",
       "\n",
       "       hkey_local_machine\\\\system\\currentcontrolset\\services\\dnscache\\parameters  \\\n",
       "0                                                      1                           \n",
       "1                                                      0                           \n",
       "2                                                      0                           \n",
       "3                                                      0                           \n",
       "4                                                      0                           \n",
       "...                                                  ...                           \n",
       "49995                                                  0                           \n",
       "49996                                                  0                           \n",
       "49997                                                  0                           \n",
       "49998                                                  2                           \n",
       "49999                                                  0                           \n",
       "\n",
       "       hkey_current_user\\\\software\\microsoft\\windows\\currentversion\\explorer\\mountpoints2\\cpc\\volume  \\\n",
       "0                                                      0                                               \n",
       "1                                                      0                                               \n",
       "2                                                      0                                               \n",
       "3                                                      0                                               \n",
       "4                                                      0                                               \n",
       "...                                                  ...                                               \n",
       "49995                                                  0                                               \n",
       "49996                                                  0                                               \n",
       "49997                                                  2                                               \n",
       "49998                                                  0                                               \n",
       "49999                                                  2                                               \n",
       "\n",
       "       ...  c:\\windows\\system32\\kernel32.dll  \\\n",
       "0      ...                                 0   \n",
       "1      ...                                 0   \n",
       "2      ...                                 0   \n",
       "3      ...                                 1   \n",
       "4      ...                                 0   \n",
       "...    ...                               ...   \n",
       "49995  ...                                 0   \n",
       "49996  ...                                 0   \n",
       "49997  ...                                 0   \n",
       "49998  ...                                 0   \n",
       "49999  ...                                 0   \n",
       "\n",
       "       c:\\documents and settings\\username\\application data\\microsoft\\cryptneturlcache\\metadata\\2bf68f4714092295550497dd56f57004  \\\n",
       "0                                                      0                                                                          \n",
       "1                                                      0                                                                          \n",
       "2                                                      0                                                                          \n",
       "3                                                      0                                                                          \n",
       "4                                                      0                                                                          \n",
       "...                                                  ...                                                                          \n",
       "49995                                                  0                                                                          \n",
       "49996                                                  0                                                                          \n",
       "49997                                                  0                                                                          \n",
       "49998                                                  0                                                                          \n",
       "49999                                                  0                                                                          \n",
       "\n",
       "       c:\\windows\\system32\\shdocvw.dll  c:\\windows\\system32\\psapi.dll  \\\n",
       "0                                    0                              0   \n",
       "1                                    0                              0   \n",
       "2                                    0                              0   \n",
       "3                                    0                              0   \n",
       "4                                    0                              0   \n",
       "...                                ...                            ...   \n",
       "49995                                0                              0   \n",
       "49996                                0                              0   \n",
       "49997                                0                              0   \n",
       "49998                                0                              0   \n",
       "49999                                0                              0   \n",
       "\n",
       "       c:\\windows\\system32\\cmd.exe  c:\\windows\\dll\\mscorlib.pdb  \\\n",
       "0                                0                            0   \n",
       "1                                0                            0   \n",
       "2                                0                            0   \n",
       "3                                0                            0   \n",
       "4                                0                            0   \n",
       "...                            ...                          ...   \n",
       "49995                            0                            0   \n",
       "49996                            0                            0   \n",
       "49997                            0                            0   \n",
       "49998                            0                            0   \n",
       "49999                            3                            0   \n",
       "\n",
       "       \\\\.\\vboxguest  unnamedfile  wdmaud.drv_file  tag  \n",
       "0                  0            0                0    0  \n",
       "1                  0            0                0    0  \n",
       "2                  0            0                0    1  \n",
       "3                  0            0                0    0  \n",
       "4                  0            0                0    1  \n",
       "...              ...          ...              ...  ...  \n",
       "49995              0            0                0    0  \n",
       "49996              0            0                0    1  \n",
       "49997              0            0                0    0  \n",
       "49998              0            0                0    1  \n",
       "49999              0            0                0    1  \n",
       "\n",
       "[50000 rows x 855 columns]"
      ],
      "text/html": "<div>\n<style scoped>\n    .dataframe tbody tr th:only-of-type {\n        vertical-align: middle;\n    }\n\n    .dataframe tbody tr th {\n        vertical-align: top;\n    }\n\n    .dataframe thead th {\n        text-align: right;\n    }\n</style>\n<table border=\"1\" class=\"dataframe\">\n  <thead>\n    <tr style=\"text-align: right;\">\n      <th></th>\n      <th>Unnamed: 0</th>\n      <th>hkey_local_machine\\\\software\\microsoft\\windows\\currentversion\\uninstall\\mobileoptionpack</th>\n      <th>hkey_classes_root\\\\clsid\\{148bd52a-a2ab-11ce-b11f-00aa00530503}</th>\n      <th>hkey_current_user\\\\software\\microsoft\\windows\\currentversion\\urlmon settings</th>\n      <th>hkey_local_machine\\\\system\\currentcontrolset\\services\\tcpip\\parameters\\interfaces\\ms tcp loopback interface</th>\n      <th>hkey_local_machine\\\\software\\microsoft\\net framework setup\\ndp\\v3.5</th>\n      <th>hkey_local_machine\\\\software\\microsoft\\windows nt\\currentversion\\winlogon</th>\n      <th>hkey_local_machine\\\\software\\microsoft\\windows\\currentversion\\internet settings\\user agent</th>\n      <th>hkey_local_machine\\\\system\\currentcontrolset\\services\\dnscache\\parameters</th>\n      <th>hkey_current_user\\\\software\\microsoft\\windows\\currentversion\\explorer\\mountpoints2\\cpc\\volume</th>\n      <th>...</th>\n      <th>c:\\windows\\system32\\kernel32.dll</th>\n      <th>c:\\documents and settings\\username\\application data\\microsoft\\cryptneturlcache\\metadata\\2bf68f4714092295550497dd56f57004</th>\n      <th>c:\\windows\\system32\\shdocvw.dll</th>\n      <th>c:\\windows\\system32\\psapi.dll</th>\n      <th>c:\\windows\\system32\\cmd.exe</th>\n      <th>c:\\windows\\dll\\mscorlib.pdb</th>\n      <th>\\\\.\\vboxguest</th>\n      <th>unnamedfile</th>\n      <th>wdmaud.drv_file</th>\n      <th>tag</th>\n    </tr>\n  </thead>\n  <tbody>\n    <tr>\n      <th>0</th>\n      <td>00005122106941E2A0B5A651249D71ADD11C561167F3F9...</td>\n      <td>0</td>\n      <td>0</td>\n      <td>0</td>\n      <td>0</td>\n      <td>0</td>\n      <td>2</td>\n      <td>0</td>\n      <td>1</td>\n      <td>0</td>\n      <td>...</td>\n      <td>0</td>\n      <td>0</td>\n      <td>0</td>\n      <td>0</td>\n      <td>0</td>\n      <td>0</td>\n      <td>0</td>\n      <td>0</td>\n      <td>0</td>\n      <td>0</td>\n    </tr>\n    <tr>\n      <th>1</th>\n      <td>0000CF95A98B33F00F4CDCBD13017EAB7B9589BE79617D...</td>\n      <td>0</td>\n      <td>0</td>\n      <td>0</td>\n      <td>0</td>\n      <td>0</td>\n      <td>0</td>\n      <td>0</td>\n      <td>0</td>\n      <td>0</td>\n      <td>...</td>\n      <td>0</td>\n      <td>0</td>\n      <td>0</td>\n      <td>0</td>\n      <td>0</td>\n      <td>0</td>\n      <td>0</td>\n      <td>0</td>\n      <td>0</td>\n      <td>0</td>\n    </tr>\n    <tr>\n      <th>2</th>\n      <td>00015A2AEE06230C7E12B8D1E79F345F90008F0DD3175B...</td>\n      <td>0</td>\n      <td>0</td>\n      <td>0</td>\n      <td>0</td>\n      <td>0</td>\n      <td>0</td>\n      <td>0</td>\n      <td>0</td>\n      <td>0</td>\n      <td>...</td>\n      <td>0</td>\n      <td>0</td>\n      <td>0</td>\n      <td>0</td>\n      <td>0</td>\n      <td>0</td>\n      <td>0</td>\n      <td>0</td>\n      <td>0</td>\n      <td>1</td>\n    </tr>\n    <tr>\n      <th>3</th>\n      <td>0001D0A0243A15D78F10DB87FD721E4F06F3B9892257FC...</td>\n      <td>0</td>\n      <td>0</td>\n      <td>0</td>\n      <td>0</td>\n      <td>0</td>\n      <td>4</td>\n      <td>0</td>\n      <td>0</td>\n      <td>0</td>\n      <td>...</td>\n      <td>1</td>\n      <td>0</td>\n      <td>0</td>\n      <td>0</td>\n      <td>0</td>\n      <td>0</td>\n      <td>0</td>\n      <td>0</td>\n      <td>0</td>\n      <td>0</td>\n    </tr>\n    <tr>\n      <th>4</th>\n      <td>0001D6A56EBCF3C0DEF053DA01454BF23021DE7DF1FC48...</td>\n      <td>0</td>\n      <td>0</td>\n      <td>0</td>\n      <td>0</td>\n      <td>0</td>\n      <td>0</td>\n      <td>0</td>\n      <td>0</td>\n      <td>0</td>\n      <td>...</td>\n      <td>0</td>\n      <td>0</td>\n      <td>0</td>\n      <td>0</td>\n      <td>0</td>\n      <td>0</td>\n      <td>0</td>\n      <td>0</td>\n      <td>0</td>\n      <td>1</td>\n    </tr>\n    <tr>\n      <th>...</th>\n      <td>...</td>\n      <td>...</td>\n      <td>...</td>\n      <td>...</td>\n      <td>...</td>\n      <td>...</td>\n      <td>...</td>\n      <td>...</td>\n      <td>...</td>\n      <td>...</td>\n      <td>...</td>\n      <td>...</td>\n      <td>...</td>\n      <td>...</td>\n      <td>...</td>\n      <td>...</td>\n      <td>...</td>\n      <td>...</td>\n      <td>...</td>\n      <td>...</td>\n      <td>...</td>\n    </tr>\n    <tr>\n      <th>49995</th>\n      <td>4BC0BBB718DF49F910610A21684615B4D8467351B92247...</td>\n      <td>0</td>\n      <td>0</td>\n      <td>0</td>\n      <td>0</td>\n      <td>0</td>\n      <td>2</td>\n      <td>0</td>\n      <td>0</td>\n      <td>0</td>\n      <td>...</td>\n      <td>0</td>\n      <td>0</td>\n      <td>0</td>\n      <td>0</td>\n      <td>0</td>\n      <td>0</td>\n      <td>0</td>\n      <td>0</td>\n      <td>0</td>\n      <td>0</td>\n    </tr>\n    <tr>\n      <th>49996</th>\n      <td>4BC0F4DB50C10C6B2622AECF1AF42AF066CE4ED30F3FB2...</td>\n      <td>0</td>\n      <td>0</td>\n      <td>0</td>\n      <td>0</td>\n      <td>0</td>\n      <td>0</td>\n      <td>0</td>\n      <td>0</td>\n      <td>0</td>\n      <td>...</td>\n      <td>0</td>\n      <td>0</td>\n      <td>0</td>\n      <td>0</td>\n      <td>0</td>\n      <td>0</td>\n      <td>0</td>\n      <td>0</td>\n      <td>0</td>\n      <td>1</td>\n    </tr>\n    <tr>\n      <th>49997</th>\n      <td>4BC1009A6EAC73C7C30F205C165416820396EAEAF6E48E...</td>\n      <td>0</td>\n      <td>0</td>\n      <td>0</td>\n      <td>0</td>\n      <td>0</td>\n      <td>0</td>\n      <td>0</td>\n      <td>0</td>\n      <td>2</td>\n      <td>...</td>\n      <td>0</td>\n      <td>0</td>\n      <td>0</td>\n      <td>0</td>\n      <td>0</td>\n      <td>0</td>\n      <td>0</td>\n      <td>0</td>\n      <td>0</td>\n      <td>0</td>\n    </tr>\n    <tr>\n      <th>49998</th>\n      <td>4BC1021BFE0F9D286A779A10F6BA38A4A0035FFF694CDB...</td>\n      <td>0</td>\n      <td>0</td>\n      <td>0</td>\n      <td>0</td>\n      <td>0</td>\n      <td>0</td>\n      <td>0</td>\n      <td>2</td>\n      <td>0</td>\n      <td>...</td>\n      <td>0</td>\n      <td>0</td>\n      <td>0</td>\n      <td>0</td>\n      <td>0</td>\n      <td>0</td>\n      <td>0</td>\n      <td>0</td>\n      <td>0</td>\n      <td>1</td>\n    </tr>\n    <tr>\n      <th>49999</th>\n      <td>4BC2E8DF3964E8C0D3F427B213D654A1314AE0DC750FA1...</td>\n      <td>0</td>\n      <td>0</td>\n      <td>0</td>\n      <td>0</td>\n      <td>0</td>\n      <td>0</td>\n      <td>0</td>\n      <td>0</td>\n      <td>2</td>\n      <td>...</td>\n      <td>0</td>\n      <td>0</td>\n      <td>0</td>\n      <td>0</td>\n      <td>3</td>\n      <td>0</td>\n      <td>0</td>\n      <td>0</td>\n      <td>0</td>\n      <td>1</td>\n    </tr>\n  </tbody>\n</table>\n<p>50000 rows × 855 columns</p>\n</div>"
     },
     "metadata": {},
     "execution_count": 3
    }
   ],
   "source": [
    "data"
   ]
  },
  {
   "cell_type": "code",
   "execution_count": 4,
   "metadata": {},
   "outputs": [],
   "source": [
    "data.iloc[:,0] = data.iloc[:,0].apply(lambda x: hash(x))"
   ]
  },
  {
   "cell_type": "code",
   "execution_count": 5,
   "metadata": {},
   "outputs": [],
   "source": [
    "tags = data['tag'].to_numpy()\n",
    "data = data.drop(['tag', 'Unnamed: 0'], axis=1)"
   ]
  },
  {
   "cell_type": "code",
   "execution_count": 17,
   "metadata": {},
   "outputs": [],
   "source": [
    "clf = DecisionTreeClassifier()\n",
    "size = data.shape[0]//2\n",
    "clf.fit(data.iloc[0:size].to_numpy(),tags[0:size])\n",
    "importances = clf.feature_importances_\n",
    "prediction = clf.predict(data[size:])"
   ]
  },
  {
   "cell_type": "code",
   "execution_count": 20,
   "metadata": {},
   "outputs": [
    {
     "output_type": "stream",
     "name": "stdout",
     "text": [
      "remained features: 15/853\n"
     ]
    }
   ],
   "source": [
    "choose = [(importances[i] > max(importances)/10) for i in range(data.shape[1])] \n",
    "newdata = data.iloc[:, choose]\n",
    "print(f'remained features: {sum(choose)}/{len(choose)}')"
   ]
  },
  {
   "cell_type": "code",
   "execution_count": 21,
   "metadata": {},
   "outputs": [],
   "source": [
    "clf = DecisionTreeClassifier()\n",
    "size = data.shape[0]//2\n",
    "clf.fit(newdata.iloc[0:size].to_numpy(),tags[0:size])\n",
    "importances = clf.feature_importances_\n",
    "newprediction = clf.predict(newdata[size:])"
   ]
  },
  {
   "cell_type": "code",
   "execution_count": 22,
   "metadata": {},
   "outputs": [
    {
     "output_type": "stream",
     "name": "stdout",
     "text": [
      "full:86.244, filtered: 84.772\n"
     ]
    }
   ],
   "source": [
    "accuracy = sum(prediction == tags[size:])/len(prediction)*100 \n",
    "newaccuracy = sum(newprediction == tags[size:])/len(newprediction)*100 \n",
    "print(f'full:{accuracy}, filtered: {newaccuracy}')"
   ]
  },
  {
   "cell_type": "code",
   "execution_count": null,
   "metadata": {},
   "outputs": [],
   "source": []
  }
 ]
}
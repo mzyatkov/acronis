{
 "metadata": {
  "language_info": {
   "codemirror_mode": {
    "name": "ipython",
    "version": 3
   },
   "file_extension": ".py",
   "mimetype": "text/x-python",
   "name": "python",
   "nbconvert_exporter": "python",
   "pygments_lexer": "ipython3",
   "version": "3.8.5"
  },
  "orig_nbformat": 2,
  "kernelspec": {
   "name": "python385jvsc74a57bd0374c64f666e4a92d73d9fe4353c63504f10102eb3c5a6e85086f78d6fc6d099f",
   "display_name": "Python 3.8.5 64-bit ('base': conda)"
  }
 },
 "nbformat": 4,
 "nbformat_minor": 2,
 "cells": [
  {
   "cell_type": "code",
   "execution_count": 1,
   "metadata": {},
   "outputs": [],
   "source": [
    "from sklearn.tree import DecisionTreeRegressor\n",
    "import pandas as pd\n",
    "import numpy as np"
   ]
  },
  {
   "cell_type": "code",
   "execution_count": 7,
   "metadata": {},
   "outputs": [],
   "source": [
    "data = pd.read_csv(\"predict.csv\").dropna()"
   ]
  },
  {
   "cell_type": "code",
   "execution_count": 8,
   "metadata": {},
   "outputs": [
    {
     "output_type": "execute_result",
     "data": {
      "text/plain": [
       "       timestamp       count  conns  read_bytes_total  latency_ms_sum\n",
       "0     1564650000  88967916.0  349.0      1.081355e+13     509146850.3\n",
       "1     1564650300  88989154.0  336.0      1.081708e+13     509262088.5\n",
       "2     1564650600  89004769.0  333.0      1.081963e+13     509341201.7\n",
       "3     1564650900  89020289.0  330.0      1.082215e+13     509415425.9\n",
       "4     1564651200  89026526.0  311.0      1.082481e+13     509483841.9\n",
       "...          ...         ...    ...               ...             ...\n",
       "8347  1567154100  71442802.0  309.0      1.406312e+13     380723239.0\n",
       "8348  1567154400  71471264.0  305.0      1.407186e+13     380943753.5\n",
       "8349  1567154700  71508358.0  303.0      1.408257e+13     381144043.3\n",
       "8350  1567155000  71536149.0  300.0      1.409308e+13     381317927.5\n",
       "8351  1567155300  71559671.0  308.0      1.410314e+13     381496135.4\n",
       "\n",
       "[7990 rows x 5 columns]"
      ],
      "text/html": "<div>\n<style scoped>\n    .dataframe tbody tr th:only-of-type {\n        vertical-align: middle;\n    }\n\n    .dataframe tbody tr th {\n        vertical-align: top;\n    }\n\n    .dataframe thead th {\n        text-align: right;\n    }\n</style>\n<table border=\"1\" class=\"dataframe\">\n  <thead>\n    <tr style=\"text-align: right;\">\n      <th></th>\n      <th>timestamp</th>\n      <th>count</th>\n      <th>conns</th>\n      <th>read_bytes_total</th>\n      <th>latency_ms_sum</th>\n    </tr>\n  </thead>\n  <tbody>\n    <tr>\n      <th>0</th>\n      <td>1564650000</td>\n      <td>88967916.0</td>\n      <td>349.0</td>\n      <td>1.081355e+13</td>\n      <td>509146850.3</td>\n    </tr>\n    <tr>\n      <th>1</th>\n      <td>1564650300</td>\n      <td>88989154.0</td>\n      <td>336.0</td>\n      <td>1.081708e+13</td>\n      <td>509262088.5</td>\n    </tr>\n    <tr>\n      <th>2</th>\n      <td>1564650600</td>\n      <td>89004769.0</td>\n      <td>333.0</td>\n      <td>1.081963e+13</td>\n      <td>509341201.7</td>\n    </tr>\n    <tr>\n      <th>3</th>\n      <td>1564650900</td>\n      <td>89020289.0</td>\n      <td>330.0</td>\n      <td>1.082215e+13</td>\n      <td>509415425.9</td>\n    </tr>\n    <tr>\n      <th>4</th>\n      <td>1564651200</td>\n      <td>89026526.0</td>\n      <td>311.0</td>\n      <td>1.082481e+13</td>\n      <td>509483841.9</td>\n    </tr>\n    <tr>\n      <th>...</th>\n      <td>...</td>\n      <td>...</td>\n      <td>...</td>\n      <td>...</td>\n      <td>...</td>\n    </tr>\n    <tr>\n      <th>8347</th>\n      <td>1567154100</td>\n      <td>71442802.0</td>\n      <td>309.0</td>\n      <td>1.406312e+13</td>\n      <td>380723239.0</td>\n    </tr>\n    <tr>\n      <th>8348</th>\n      <td>1567154400</td>\n      <td>71471264.0</td>\n      <td>305.0</td>\n      <td>1.407186e+13</td>\n      <td>380943753.5</td>\n    </tr>\n    <tr>\n      <th>8349</th>\n      <td>1567154700</td>\n      <td>71508358.0</td>\n      <td>303.0</td>\n      <td>1.408257e+13</td>\n      <td>381144043.3</td>\n    </tr>\n    <tr>\n      <th>8350</th>\n      <td>1567155000</td>\n      <td>71536149.0</td>\n      <td>300.0</td>\n      <td>1.409308e+13</td>\n      <td>381317927.5</td>\n    </tr>\n    <tr>\n      <th>8351</th>\n      <td>1567155300</td>\n      <td>71559671.0</td>\n      <td>308.0</td>\n      <td>1.410314e+13</td>\n      <td>381496135.4</td>\n    </tr>\n  </tbody>\n</table>\n<p>7990 rows × 5 columns</p>\n</div>"
     },
     "metadata": {},
     "execution_count": 8
    }
   ],
   "source": [
    "data"
   ]
  },
  {
   "cell_type": "code",
   "execution_count": 18,
   "metadata": {},
   "outputs": [
    {
     "output_type": "execute_result",
     "data": {
      "text/plain": [
       "DecisionTreeRegressor()"
      ]
     },
     "metadata": {},
     "execution_count": 18
    }
   ],
   "source": [
    "clf = DecisionTreeRegressor()\n",
    "learn_size = data.shape[0]//2\n",
    "clf.fit(data.iloc[:learn_size,:-1], data.iloc[:learn_size,-1])"
   ]
  },
  {
   "cell_type": "code",
   "execution_count": 19,
   "metadata": {},
   "outputs": [],
   "source": [
    "predict_data = data.iloc[learn_size:,:-1]\n",
    "prediction = clf.predict(predict_data)\n",
    "accuracy = sum([i==j for i,j in zip(data.iloc[learn_size:,-1], prediction)])/len(predict_data)"
   ]
  },
  {
   "cell_type": "code",
   "execution_count": 23,
   "metadata": {},
   "outputs": [
    {
     "output_type": "execute_result",
     "data": {
      "text/plain": [
       "array([4.01449310e+10, 1.44447124e+11, 4.96432976e+11, ...,\n",
       "       2.43650011e+17, 2.43478379e+17, 2.43302543e+17])"
      ]
     },
     "metadata": {},
     "execution_count": 23
    }
   ],
   "source": [
    "(np.array(prediction)-data.iloc[learn_size:,-1].to_numpy())**2"
   ]
  },
  {
   "cell_type": "code",
   "execution_count": 25,
   "metadata": {},
   "outputs": [
    {
     "output_type": "execute_result",
     "data": {
      "text/plain": [
       "3995    1.176256e+09\n",
       "3996    1.176436e+09\n",
       "3997    1.176761e+09\n",
       "3998    1.177089e+09\n",
       "3999    1.177413e+09\n",
       "            ...     \n",
       "8347    3.807232e+08\n",
       "8348    3.809438e+08\n",
       "8349    3.811440e+08\n",
       "8350    3.813179e+08\n",
       "8351    3.814961e+08\n",
       "Name: latency_ms_sum, Length: 3995, dtype: float64"
      ]
     },
     "metadata": {},
     "execution_count": 25
    }
   ],
   "source": [
    "data.iloc[learn_size:,-1]"
   ]
  },
  {
   "cell_type": "code",
   "execution_count": null,
   "metadata": {},
   "outputs": [],
   "source": []
  }
 ]
}